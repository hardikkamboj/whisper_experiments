{
 "cells": [
  {
   "cell_type": "code",
   "execution_count": null,
   "metadata": {},
   "outputs": [],
   "source": [
    "import os \n",
    "from glob import glob\n",
    "\n",
    "import random\n",
    "import pandas as pd\n",
    "from tqdm import tqdm"
   ]
  },
  {
   "cell_type": "code",
   "execution_count": null,
   "metadata": {},
   "outputs": [],
   "source": [
    "import whisper\n",
    "\n",
    "model_tiny = whisper.load_model(\"tiny\")\n",
    "model_base = whisper.load_model(\"base\")\n",
    "model_small = whisper.load_model('small')\n",
    "model_medium =whisper.load_model('medium')\n",
    "model_large = whisper.load_model('large')"
   ]
  },
  {
   "cell_type": "code",
   "execution_count": null,
   "metadata": {},
   "outputs": [],
   "source": [
    "model_medium =whisper.load_model('large')\n"
   ]
  },
  {
   "cell_type": "code",
   "execution_count": null,
   "metadata": {},
   "outputs": [],
   "source": [
    "def test_audio(audio_file):\n",
    "    model_types = ['tiny', 'base', 'small', 'medium', 'large']\n",
    "\n",
    "    for model_type in model_types:\n",
    "        print(\"Currently Running \" + model_type + \" model\")\n",
    "        model = whisper.load_model(model_type)\n",
    "        # load audio and pad/trim it to fit 30 seconds\n",
    "        audio = whisper.load_audio(audio_file)\n",
    "        audio = whisper.pad_or_trim(audio)\n",
    "\n",
    "        # make log-Mel spectrogram and move to the same device as the model\n",
    "        mel = whisper.log_mel_spectrogram(audio).to(model.device)\n",
    "\n",
    "        # detect the spoken language\n",
    "        _, probs = model.detect_language(mel)\n",
    "        print(f\"Detected language: {max(probs, key=probs.get)}\")\n",
    "\n",
    "        # decode the audio\n",
    "        options = whisper.DecodingOptions()\n",
    "        result = whisper.decode(model, mel, options)\n",
    "\n",
    "        # print the recognized text\n",
    "        print(result.text)\n",
    "        print()"
   ]
  },
  {
   "cell_type": "markdown",
   "metadata": {},
   "source": [
    "# HINDI AUDIO"
   ]
  },
  {
   "cell_type": "code",
   "execution_count": null,
   "metadata": {},
   "outputs": [],
   "source": [
    "\n",
    "df = pd.read_csv('test_audio/hi/train.tsv', sep='\\t')\n",
    "\n",
    "hindi_audio_files = list(df['path'])\n",
    "hindi_audio = os.path.join('test_audio', 'hi', 'clips',random.choice(hindi_audio_files))\n",
    "\n",
    "text = df[df['path'] == hindi_audio.split('/')[-1]]['sentence'].iloc[0]"
   ]
  },
  {
   "cell_type": "code",
   "execution_count": null,
   "metadata": {},
   "outputs": [],
   "source": [
    "print(text)\n",
    "\n",
    "from IPython.display import Audio\n",
    "Audio(hindi_audio)\n",
    "\n"
   ]
  },
  {
   "cell_type": "code",
   "execution_count": null,
   "metadata": {},
   "outputs": [],
   "source": [
    "test_audio(hindi_audio)"
   ]
  },
  {
   "cell_type": "markdown",
   "metadata": {},
   "source": [
    "## PUNJABI AUDIO"
   ]
  },
  {
   "cell_type": "code",
   "execution_count": null,
   "metadata": {},
   "outputs": [],
   "source": [
    "df = pd.read_csv('test_audio/pa-IN/train.tsv', sep='\\t')\n",
    "\n",
    "pb_audio_files = list(df['path'])\n",
    "pb_audio = os.path.join('test_audio', 'pa-IN', 'clips',random.choice(pb_audio_files))\n",
    "\n",
    "text = df[df['path'] == pb_audio.split('/')[-1]]['sentence'].iloc[0]"
   ]
  },
  {
   "cell_type": "code",
   "execution_count": null,
   "metadata": {},
   "outputs": [],
   "source": [
    "print(text)\n",
    "\n",
    "from IPython.display import Audio\n",
    "Audio(pb_audio)"
   ]
  },
  {
   "cell_type": "code",
   "execution_count": null,
   "metadata": {},
   "outputs": [],
   "source": [
    "test_audio(pb_audio)"
   ]
  },
  {
   "cell_type": "markdown",
   "metadata": {},
   "source": [
    "# RUN INFERENCE FOR ALL HINDI AUDIOS"
   ]
  },
  {
   "cell_type": "code",
   "execution_count": null,
   "metadata": {},
   "outputs": [],
   "source": [
    "from whisper.tokenizer import LANGUAGES\n",
    "\n",
    "\n",
    "def get_result(audio_file):\n",
    "    model_types = ['tiny', 'base', 'small', 'medium', 'large']\n",
    "    resultDict = {}\n",
    "    resultDict['file'] = audio_file\n",
    "    for model_type in model_types:\n",
    "        # print(\"Currently Running \" + model_type + \" model\")\n",
    "        model = whisper.load_model(model_type)\n",
    "        # load audio and pad/trim it to fit 30 seconds\n",
    "        audio = whisper.load_audio(audio_file)\n",
    "        audio = whisper.pad_or_trim(audio)\n",
    "\n",
    "        # make log-Mel spectrogram and move to the same device as the model\n",
    "        mel = whisper.log_mel_spectrogram(audio).to(model.device)\n",
    "\n",
    "        # decode the audio\n",
    "        # parameters language='hi' tells the decoder that we are currently working for hindi\n",
    "        options = whisper.DecodingOptions(language='hi') \n",
    "        result = whisper.decode(model, mel, options)\n",
    "\n",
    "        resultDict[model_type] = result.text\n",
    "    return resultDict"
   ]
  },
  {
   "cell_type": "code",
   "execution_count": null,
   "metadata": {},
   "outputs": [],
   "source": [
    "df = pd.read_csv('test_audio/hi/train.tsv', sep='\\t')\n",
    "df = df.reset_index()  # make sure indexes pair with number of rows\n",
    "\n",
    "results_df = pd.DataFrame()\n",
    "for index, row in tqdm(df.iterrows()):\n",
    "    audio_file_path = row['path']\n",
    "    audio_file = os.path.join('test_audio','hi', 'clips', audio_file_path)\n",
    "\n",
    "    text = df[df['path'] == audio_file_path.split('/')[-1]]['sentence'].iloc[0]\n",
    "    result = get_result(audio_file)\n",
    "    result['original_text'] = text\n",
    "    print(result)\n",
    "\n",
    "    results_df = pd.concat([results_df, pd.DataFrame([result])])\n",
    "    results_df.to_csv('results.csv')\n"
   ]
  },
  {
   "cell_type": "code",
   "execution_count": null,
   "metadata": {},
   "outputs": [],
   "source": [
    "df = pd.read_csv('test_audio/hi/train.tsv', sep='\\t')\n",
    "df = df.reset_index()  # make sure indexes pair with number of rows\n",
    "\n",
    "results_df = pd.DataFrame()\n",
    "for index, row in tqdm(df.iterrows()):\n",
    "    audio_file_path = row['path']\n",
    "    audio_file = os.path.join('test_audio','hi', 'clips', audio_file_path)\n",
    "\n",
    "    text = df[df['path'] == audio_file_path.split('/')[-1]]['sentence'].iloc[0]\n",
    "    result = get_result(audio_file)\n",
    "    result['original_text'] = text\n",
    "    print(result)\n",
    "\n",
    "    results_df = pd.concat([results_df, pd.DataFrame([result])])\n",
    "    results_df.to_csv('results_test.csv')\n"
   ]
  }
 ],
 "metadata": {
  "kernelspec": {
   "display_name": "Python 3.10.4 ('whisper_env')",
   "language": "python",
   "name": "python3"
  },
  "language_info": {
   "codemirror_mode": {
    "name": "ipython",
    "version": 3
   },
   "file_extension": ".py",
   "mimetype": "text/x-python",
   "name": "python",
   "nbconvert_exporter": "python",
   "pygments_lexer": "ipython3",
   "version": "3.10.4"
  },
  "orig_nbformat": 4,
  "vscode": {
   "interpreter": {
    "hash": "3980184ebd741a8967035ceddb9036da07dc58f53368c60728e5239163ee94b1"
   }
  }
 },
 "nbformat": 4,
 "nbformat_minor": 2
}
